{
 "cells": [
  {
   "cell_type": "code",
   "execution_count": 1,
   "metadata": {},
   "outputs": [],
   "source": [
    "import pandas as pd\n",
    "from data_transform import DataTransform\n",
    "from data_frame_info import DataFrameInfo\n",
    "from plotter import Plotter\n",
    "from data_frame_transform import DataFrameTransform"
   ]
  },
  {
   "cell_type": "markdown",
   "metadata": {},
   "source": [
    "### Loading variables "
   ]
  },
  {
   "cell_type": "code",
   "execution_count": 2,
   "metadata": {},
   "outputs": [],
   "source": [
    "def load_csv_to_dataframe():\n",
    "    \"\"\"Load the loan_payments.csv file and return the resultant dataframe.\n",
    "\n",
    "    Returns:\n",
    "        df (pd.Dataframe): dataframe contianing loan_payments data\n",
    "    \"\"\"\n",
    "    \n",
    "    df = pd.read_csv('../loan_payments.csv')\n",
    "    return df\n"
   ]
  },
  {
   "cell_type": "code",
   "execution_count": 3,
   "metadata": {},
   "outputs": [],
   "source": [
    "# These are used throughout to access the dataframe, and the data_transform object to manipulate the dataframe. \n",
    "df = load_csv_to_dataframe()\n",
    "data_transform = DataTransform(df)\n",
    "df_info = DataFrameInfo(df)\n",
    "data_frame_transformer = DataFrameTransform(df)\n",
    "plotter = Plotter(df)"
   ]
  },
  {
   "cell_type": "code",
   "execution_count": null,
   "metadata": {},
   "outputs": [],
   "source": []
  },
  {
   "cell_type": "markdown",
   "metadata": {},
   "source": [
    "### Summary statistics "
   ]
  },
  {
   "cell_type": "markdown",
   "metadata": {},
   "source": [
    "Calling a few basic functions to get an overview of the dataframe. Calls like .head(), .info, .shape and .describe()"
   ]
  },
  {
   "cell_type": "code",
   "execution_count": 4,
   "metadata": {},
   "outputs": [
    {
     "data": {
      "text/html": [
       "<div>\n",
       "<style scoped>\n",
       "    .dataframe tbody tr th:only-of-type {\n",
       "        vertical-align: middle;\n",
       "    }\n",
       "\n",
       "    .dataframe tbody tr th {\n",
       "        vertical-align: top;\n",
       "    }\n",
       "\n",
       "    .dataframe thead th {\n",
       "        text-align: right;\n",
       "    }\n",
       "</style>\n",
       "<table border=\"1\" class=\"dataframe\">\n",
       "  <thead>\n",
       "    <tr style=\"text-align: right;\">\n",
       "      <th></th>\n",
       "      <th>id</th>\n",
       "      <th>member_id</th>\n",
       "      <th>loan_amount</th>\n",
       "      <th>funded_amount</th>\n",
       "      <th>funded_amount_inv</th>\n",
       "      <th>term</th>\n",
       "      <th>int_rate</th>\n",
       "      <th>instalment</th>\n",
       "      <th>grade</th>\n",
       "      <th>sub_grade</th>\n",
       "      <th>...</th>\n",
       "      <th>recoveries</th>\n",
       "      <th>collection_recovery_fee</th>\n",
       "      <th>last_payment_date</th>\n",
       "      <th>last_payment_amount</th>\n",
       "      <th>next_payment_date</th>\n",
       "      <th>last_credit_pull_date</th>\n",
       "      <th>collections_12_mths_ex_med</th>\n",
       "      <th>mths_since_last_major_derog</th>\n",
       "      <th>policy_code</th>\n",
       "      <th>application_type</th>\n",
       "    </tr>\n",
       "  </thead>\n",
       "  <tbody>\n",
       "    <tr>\n",
       "      <th>0</th>\n",
       "      <td>38676116</td>\n",
       "      <td>41461848</td>\n",
       "      <td>8000</td>\n",
       "      <td>8000.0</td>\n",
       "      <td>8000.0</td>\n",
       "      <td>36 months</td>\n",
       "      <td>7.49</td>\n",
       "      <td>248.82</td>\n",
       "      <td>A</td>\n",
       "      <td>A4</td>\n",
       "      <td>...</td>\n",
       "      <td>0.0</td>\n",
       "      <td>0.0</td>\n",
       "      <td>Jan-2022</td>\n",
       "      <td>248.82</td>\n",
       "      <td>Feb-2022</td>\n",
       "      <td>Jan-2022</td>\n",
       "      <td>0.0</td>\n",
       "      <td>5.0</td>\n",
       "      <td>1</td>\n",
       "      <td>INDIVIDUAL</td>\n",
       "    </tr>\n",
       "    <tr>\n",
       "      <th>1</th>\n",
       "      <td>38656203</td>\n",
       "      <td>41440010</td>\n",
       "      <td>13200</td>\n",
       "      <td>13200.0</td>\n",
       "      <td>13200.0</td>\n",
       "      <td>36 months</td>\n",
       "      <td>6.99</td>\n",
       "      <td>407.52</td>\n",
       "      <td>A</td>\n",
       "      <td>A3</td>\n",
       "      <td>...</td>\n",
       "      <td>0.0</td>\n",
       "      <td>0.0</td>\n",
       "      <td>Jan-2022</td>\n",
       "      <td>407.52</td>\n",
       "      <td>Feb-2022</td>\n",
       "      <td>Jan-2022</td>\n",
       "      <td>0.0</td>\n",
       "      <td>NaN</td>\n",
       "      <td>1</td>\n",
       "      <td>INDIVIDUAL</td>\n",
       "    </tr>\n",
       "    <tr>\n",
       "      <th>2</th>\n",
       "      <td>38656154</td>\n",
       "      <td>41439961</td>\n",
       "      <td>16000</td>\n",
       "      <td>16000.0</td>\n",
       "      <td>16000.0</td>\n",
       "      <td>36 months</td>\n",
       "      <td>7.49</td>\n",
       "      <td>497.63</td>\n",
       "      <td>A</td>\n",
       "      <td>A4</td>\n",
       "      <td>...</td>\n",
       "      <td>0.0</td>\n",
       "      <td>0.0</td>\n",
       "      <td>Oct-2021</td>\n",
       "      <td>12850.16</td>\n",
       "      <td>NaN</td>\n",
       "      <td>Oct-2021</td>\n",
       "      <td>0.0</td>\n",
       "      <td>NaN</td>\n",
       "      <td>1</td>\n",
       "      <td>INDIVIDUAL</td>\n",
       "    </tr>\n",
       "    <tr>\n",
       "      <th>3</th>\n",
       "      <td>38656128</td>\n",
       "      <td>41439934</td>\n",
       "      <td>15000</td>\n",
       "      <td>15000.0</td>\n",
       "      <td>15000.0</td>\n",
       "      <td>36 months</td>\n",
       "      <td>14.31</td>\n",
       "      <td>514.93</td>\n",
       "      <td>C</td>\n",
       "      <td>C4</td>\n",
       "      <td>...</td>\n",
       "      <td>0.0</td>\n",
       "      <td>0.0</td>\n",
       "      <td>Jun-2021</td>\n",
       "      <td>13899.67</td>\n",
       "      <td>NaN</td>\n",
       "      <td>Jun-2021</td>\n",
       "      <td>0.0</td>\n",
       "      <td>NaN</td>\n",
       "      <td>1</td>\n",
       "      <td>INDIVIDUAL</td>\n",
       "    </tr>\n",
       "    <tr>\n",
       "      <th>4</th>\n",
       "      <td>38656121</td>\n",
       "      <td>41439927</td>\n",
       "      <td>15000</td>\n",
       "      <td>15000.0</td>\n",
       "      <td>15000.0</td>\n",
       "      <td>36 months</td>\n",
       "      <td>6.03</td>\n",
       "      <td>456.54</td>\n",
       "      <td>A</td>\n",
       "      <td>A1</td>\n",
       "      <td>...</td>\n",
       "      <td>0.0</td>\n",
       "      <td>0.0</td>\n",
       "      <td>Jan-2022</td>\n",
       "      <td>456.54</td>\n",
       "      <td>Feb-2022</td>\n",
       "      <td>Jan-2022</td>\n",
       "      <td>0.0</td>\n",
       "      <td>NaN</td>\n",
       "      <td>1</td>\n",
       "      <td>INDIVIDUAL</td>\n",
       "    </tr>\n",
       "  </tbody>\n",
       "</table>\n",
       "<p>5 rows × 43 columns</p>\n",
       "</div>"
      ],
      "text/plain": [
       "         id  member_id  loan_amount  funded_amount  funded_amount_inv  \\\n",
       "0  38676116   41461848         8000         8000.0             8000.0   \n",
       "1  38656203   41440010        13200        13200.0            13200.0   \n",
       "2  38656154   41439961        16000        16000.0            16000.0   \n",
       "3  38656128   41439934        15000        15000.0            15000.0   \n",
       "4  38656121   41439927        15000        15000.0            15000.0   \n",
       "\n",
       "        term  int_rate  instalment grade sub_grade  ... recoveries  \\\n",
       "0  36 months      7.49      248.82     A        A4  ...        0.0   \n",
       "1  36 months      6.99      407.52     A        A3  ...        0.0   \n",
       "2  36 months      7.49      497.63     A        A4  ...        0.0   \n",
       "3  36 months     14.31      514.93     C        C4  ...        0.0   \n",
       "4  36 months      6.03      456.54     A        A1  ...        0.0   \n",
       "\n",
       "  collection_recovery_fee  last_payment_date last_payment_amount  \\\n",
       "0                     0.0           Jan-2022              248.82   \n",
       "1                     0.0           Jan-2022              407.52   \n",
       "2                     0.0           Oct-2021            12850.16   \n",
       "3                     0.0           Jun-2021            13899.67   \n",
       "4                     0.0           Jan-2022              456.54   \n",
       "\n",
       "  next_payment_date last_credit_pull_date collections_12_mths_ex_med  \\\n",
       "0          Feb-2022              Jan-2022                        0.0   \n",
       "1          Feb-2022              Jan-2022                        0.0   \n",
       "2               NaN              Oct-2021                        0.0   \n",
       "3               NaN              Jun-2021                        0.0   \n",
       "4          Feb-2022              Jan-2022                        0.0   \n",
       "\n",
       "  mths_since_last_major_derog  policy_code  application_type  \n",
       "0                         5.0            1        INDIVIDUAL  \n",
       "1                         NaN            1        INDIVIDUAL  \n",
       "2                         NaN            1        INDIVIDUAL  \n",
       "3                         NaN            1        INDIVIDUAL  \n",
       "4                         NaN            1        INDIVIDUAL  \n",
       "\n",
       "[5 rows x 43 columns]"
      ]
     },
     "execution_count": 4,
     "metadata": {},
     "output_type": "execute_result"
    }
   ],
   "source": [
    "df.head()"
   ]
  },
  {
   "cell_type": "code",
   "execution_count": 5,
   "metadata": {},
   "outputs": [
    {
     "data": {
      "text/plain": [
       "(54231, 43)"
      ]
     },
     "execution_count": 5,
     "metadata": {},
     "output_type": "execute_result"
    }
   ],
   "source": [
    "df.shape"
   ]
  },
  {
   "cell_type": "code",
   "execution_count": 6,
   "metadata": {},
   "outputs": [
    {
     "name": "stdout",
     "output_type": "stream",
     "text": [
      "<class 'pandas.core.frame.DataFrame'>\n",
      "RangeIndex: 54231 entries, 0 to 54230\n",
      "Data columns (total 43 columns):\n",
      " #   Column                       Non-Null Count  Dtype  \n",
      "---  ------                       --------------  -----  \n",
      " 0   id                           54231 non-null  int64  \n",
      " 1   member_id                    54231 non-null  int64  \n",
      " 2   loan_amount                  54231 non-null  int64  \n",
      " 3   funded_amount                51224 non-null  float64\n",
      " 4   funded_amount_inv            54231 non-null  float64\n",
      " 5   term                         49459 non-null  object \n",
      " 6   int_rate                     49062 non-null  float64\n",
      " 7   instalment                   54231 non-null  float64\n",
      " 8   grade                        54231 non-null  object \n",
      " 9   sub_grade                    54231 non-null  object \n",
      " 10  employment_length            52113 non-null  object \n",
      " 11  home_ownership               54231 non-null  object \n",
      " 12  annual_inc                   54231 non-null  float64\n",
      " 13  verification_status          54231 non-null  object \n",
      " 14  issue_date                   54231 non-null  object \n",
      " 15  loan_status                  54231 non-null  object \n",
      " 16  payment_plan                 54231 non-null  object \n",
      " 17  purpose                      54231 non-null  object \n",
      " 18  dti                          54231 non-null  float64\n",
      " 19  delinq_2yrs                  54231 non-null  int64  \n",
      " 20  earliest_credit_line         54231 non-null  object \n",
      " 21  inq_last_6mths               54231 non-null  int64  \n",
      " 22  mths_since_last_delinq       23229 non-null  float64\n",
      " 23  mths_since_last_record       6181 non-null   float64\n",
      " 24  open_accounts                54231 non-null  int64  \n",
      " 25  total_accounts               54231 non-null  int64  \n",
      " 26  out_prncp                    54231 non-null  float64\n",
      " 27  out_prncp_inv                54231 non-null  float64\n",
      " 28  total_payment                54231 non-null  float64\n",
      " 29  total_payment_inv            54231 non-null  float64\n",
      " 30  total_rec_prncp              54231 non-null  float64\n",
      " 31  total_rec_int                54231 non-null  float64\n",
      " 32  total_rec_late_fee           54231 non-null  float64\n",
      " 33  recoveries                   54231 non-null  float64\n",
      " 34  collection_recovery_fee      54231 non-null  float64\n",
      " 35  last_payment_date            54158 non-null  object \n",
      " 36  last_payment_amount          54231 non-null  float64\n",
      " 37  next_payment_date            21623 non-null  object \n",
      " 38  last_credit_pull_date        54224 non-null  object \n",
      " 39  collections_12_mths_ex_med   54180 non-null  float64\n",
      " 40  mths_since_last_major_derog  7499 non-null   float64\n",
      " 41  policy_code                  54231 non-null  int64  \n",
      " 42  application_type             54231 non-null  object \n",
      "dtypes: float64(20), int64(8), object(15)\n",
      "memory usage: 17.8+ MB\n"
     ]
    }
   ],
   "source": [
    "df.info()"
   ]
  },
  {
   "cell_type": "markdown",
   "metadata": {},
   "source": [
    "### Correct the column formats "
   ]
  },
  {
   "cell_type": "markdown",
   "metadata": {},
   "source": [
    "##### Dates"
   ]
  },
  {
   "cell_type": "code",
   "execution_count": 7,
   "metadata": {},
   "outputs": [
    {
     "data": {
      "text/plain": [
       "0    Jan-2021\n",
       "1    Jan-2021\n",
       "2    Jan-2021\n",
       "3    Jan-2021\n",
       "4    Jan-2021\n",
       "Name: issue_date, dtype: object"
      ]
     },
     "execution_count": 7,
     "metadata": {},
     "output_type": "execute_result"
    }
   ],
   "source": [
    "# Note how the ouptut format is 'Jan-2021'. we want it to be '2022-01-01'.\n",
    "# The type of the column is also 'object', and not some kind of date.\n",
    "df['issue_date'].head()"
   ]
  },
  {
   "cell_type": "code",
   "execution_count": 8,
   "metadata": {},
   "outputs": [],
   "source": [
    "# Column names which are currently objects, but need to be converted to dates \n",
    "object_to_date_column_names = ['issue_date', 'last_payment_date', 'next_payment_date', 'last_credit_pull_date']\n",
    "\n",
    "data_transform.convert_object_columns_to_date(object_to_date_column_names, current_format=\"%b-%Y\")"
   ]
  },
  {
   "cell_type": "code",
   "execution_count": 9,
   "metadata": {},
   "outputs": [
    {
     "data": {
      "text/plain": [
       "0   2022-01-01\n",
       "1   2022-01-01\n",
       "2   2021-10-01\n",
       "3   2021-06-01\n",
       "4   2022-01-01\n",
       "Name: last_payment_date, dtype: datetime64[ns]"
      ]
     },
     "execution_count": 9,
     "metadata": {},
     "output_type": "execute_result"
    }
   ],
   "source": [
    "# The output confirms that the format has changed.\n",
    "df['last_payment_date'].head()"
   ]
  },
  {
   "cell_type": "markdown",
   "metadata": {},
   "source": [
    "##### Categories "
   ]
  },
  {
   "cell_type": "code",
   "execution_count": 10,
   "metadata": {},
   "outputs": [],
   "source": [
    "# Column names which are object types, but are to be converted to categorical types\n",
    "obj_into_category_col_names = ['grade', 'sub_grade', 'employment_length', 'home_ownership', 'verification_status', 'loan_status', 'purpose', 'earliest_credit_line', 'application_type']\n",
    "\n",
    "data_transform.convert_object_columns_into_categories(obj_into_category_col_names)\n"
   ]
  },
  {
   "cell_type": "markdown",
   "metadata": {},
   "source": [
    "#### Integers "
   ]
  },
  {
   "cell_type": "markdown",
   "metadata": {},
   "source": [
    "The `term` column contains only two values: `[36 months, 60 months]`.\n",
    "\n",
    "I will convert them to integers (since they represent months and could conceivable be a value other than 36 or 60). "
   ]
  },
  {
   "cell_type": "code",
   "execution_count": 11,
   "metadata": {},
   "outputs": [],
   "source": [
    "# The following keys are the only two values. Could also simply be made categorical.\n",
    "term_mapping = {'36 months': 36, '60 months': 60}\n",
    "\n",
    "# Replace each key with its integer value based on the above map\n",
    "df['term'] = data_transform.object_to_int(column_name='term', mapping=term_mapping)"
   ]
  },
  {
   "cell_type": "code",
   "execution_count": 12,
   "metadata": {},
   "outputs": [],
   "source": [
    "# The following keys are the only two values. Could also simply be made categorical.\n",
    "pay_plan_mapping = {'y': 1, 'n': 0}\n",
    "\n",
    "# Replace each key with its integer value based on the above map\n",
    "df['payment_plan'] = data_transform.object_to_int('payment_plan', pay_plan_mapping)"
   ]
  },
  {
   "cell_type": "code",
   "execution_count": 13,
   "metadata": {},
   "outputs": [],
   "source": [
    "# These four columns all represent a number of months, and so can be cast to int64s\n",
    "float64_columns_into_int64 = ['collections_12_mths_ex_med', 'mths_since_last_major_derog', 'mths_since_last_delinq', 'mths_since_last_record']\n",
    "\n",
    "data_transform.convert_float64_columns_into_int64s(float64_columns_into_int64)\n"
   ]
  },
  {
   "cell_type": "markdown",
   "metadata": {},
   "source": [
    "### Handle null values"
   ]
  },
  {
   "cell_type": "markdown",
   "metadata": {},
   "source": [
    "I will first identify the variables with missing values and determine the percentage of missing values in each variable."
   ]
  },
  {
   "cell_type": "code",
   "execution_count": 14,
   "metadata": {},
   "outputs": [
    {
     "data": {
      "text/html": [
       "<div>\n",
       "<style scoped>\n",
       "    .dataframe tbody tr th:only-of-type {\n",
       "        vertical-align: middle;\n",
       "    }\n",
       "\n",
       "    .dataframe tbody tr th {\n",
       "        vertical-align: top;\n",
       "    }\n",
       "\n",
       "    .dataframe thead th {\n",
       "        text-align: right;\n",
       "    }\n",
       "</style>\n",
       "<table border=\"1\" class=\"dataframe\">\n",
       "  <thead>\n",
       "    <tr style=\"text-align: right;\">\n",
       "      <th></th>\n",
       "      <th>% of nulls</th>\n",
       "      <th># of nulls</th>\n",
       "      <th>dtype</th>\n",
       "    </tr>\n",
       "  </thead>\n",
       "  <tbody>\n",
       "    <tr>\n",
       "      <th>mths_since_last_record</th>\n",
       "      <td>88.60</td>\n",
       "      <td>48050</td>\n",
       "      <td>Int64</td>\n",
       "    </tr>\n",
       "    <tr>\n",
       "      <th>mths_since_last_major_derog</th>\n",
       "      <td>86.17</td>\n",
       "      <td>46732</td>\n",
       "      <td>Int64</td>\n",
       "    </tr>\n",
       "    <tr>\n",
       "      <th>next_payment_date</th>\n",
       "      <td>60.13</td>\n",
       "      <td>32608</td>\n",
       "      <td>datetime64[ns]</td>\n",
       "    </tr>\n",
       "    <tr>\n",
       "      <th>mths_since_last_delinq</th>\n",
       "      <td>57.17</td>\n",
       "      <td>31002</td>\n",
       "      <td>Int64</td>\n",
       "    </tr>\n",
       "    <tr>\n",
       "      <th>int_rate</th>\n",
       "      <td>9.53</td>\n",
       "      <td>5169</td>\n",
       "      <td>float64</td>\n",
       "    </tr>\n",
       "    <tr>\n",
       "      <th>term</th>\n",
       "      <td>8.80</td>\n",
       "      <td>4772</td>\n",
       "      <td>float64</td>\n",
       "    </tr>\n",
       "    <tr>\n",
       "      <th>funded_amount</th>\n",
       "      <td>5.54</td>\n",
       "      <td>3007</td>\n",
       "      <td>float64</td>\n",
       "    </tr>\n",
       "    <tr>\n",
       "      <th>employment_length</th>\n",
       "      <td>3.91</td>\n",
       "      <td>2118</td>\n",
       "      <td>category</td>\n",
       "    </tr>\n",
       "    <tr>\n",
       "      <th>last_payment_date</th>\n",
       "      <td>0.13</td>\n",
       "      <td>73</td>\n",
       "      <td>datetime64[ns]</td>\n",
       "    </tr>\n",
       "    <tr>\n",
       "      <th>collections_12_mths_ex_med</th>\n",
       "      <td>0.09</td>\n",
       "      <td>51</td>\n",
       "      <td>Int64</td>\n",
       "    </tr>\n",
       "    <tr>\n",
       "      <th>last_credit_pull_date</th>\n",
       "      <td>0.01</td>\n",
       "      <td>7</td>\n",
       "      <td>datetime64[ns]</td>\n",
       "    </tr>\n",
       "  </tbody>\n",
       "</table>\n",
       "</div>"
      ],
      "text/plain": [
       "                             % of nulls  # of nulls           dtype\n",
       "mths_since_last_record            88.60       48050           Int64\n",
       "mths_since_last_major_derog       86.17       46732           Int64\n",
       "next_payment_date                 60.13       32608  datetime64[ns]\n",
       "mths_since_last_delinq            57.17       31002           Int64\n",
       "int_rate                           9.53        5169         float64\n",
       "term                               8.80        4772         float64\n",
       "funded_amount                      5.54        3007         float64\n",
       "employment_length                  3.91        2118        category\n",
       "last_payment_date                  0.13          73  datetime64[ns]\n",
       "collections_12_mths_ex_med         0.09          51           Int64\n",
       "last_credit_pull_date              0.01           7  datetime64[ns]"
      ]
     },
     "execution_count": 14,
     "metadata": {},
     "output_type": "execute_result"
    }
   ],
   "source": [
    "# Extract only those columns with null values\n",
    "columns_with_nulls = df_info.get_columns_with_nulls()\n",
    "\n",
    "# Create two series objects containing the count and percentage of nulls in those columns \n",
    "percent_of_nulls = df_info.percentage_of_nulls_in_data_frame(dataframe=columns_with_nulls).sort_values(ascending=False)\n",
    "number_of_nulls = df_info.count_nulls_in_data_frame(dataframe=columns_with_nulls)\n",
    "column_types = columns_with_nulls.dtypes\n",
    "# Combine that data to display a DataFrame \n",
    "data = {\n",
    "    \"% of nulls\": percent_of_nulls,\n",
    "    \"# of nulls\": number_of_nulls,\n",
    "    \"dtype\": column_types\n",
    "}\n",
    "both = pd.concat(data, axis=1)\n",
    "both\n"
   ]
  },
  {
   "cell_type": "code",
   "execution_count": 15,
   "metadata": {},
   "outputs": [
    {
     "data": {
      "text/plain": [
       "0    0\n",
       "1    0\n",
       "2    0\n",
       "3    0\n",
       "4    0\n",
       "Name: collections_12_mths_ex_med, dtype: Int64"
      ]
     },
     "execution_count": 15,
     "metadata": {},
     "output_type": "execute_result"
    }
   ],
   "source": [
    "df['collections_12_mths_ex_med'].head()"
   ]
  },
  {
   "cell_type": "code",
   "execution_count": null,
   "metadata": {},
   "outputs": [],
   "source": []
  },
  {
   "cell_type": "markdown",
   "metadata": {},
   "source": [
    "#### Dropping columns"
   ]
  },
  {
   "cell_type": "markdown",
   "metadata": {},
   "source": [
    "**I now will decide which of the above columns are worth dropping entirely, and proceed to do so.**\n",
    "\n",
    "Based on the above there are 4 columns with very high proportions of nulls:\n",
    "\n",
    "`[88.60%, 86.17%, 60.13%, 57.17%]`\n",
    "\n",
    "The next biggest is 9.53%. \n",
    "\n",
    "As a result I am going to *remove all columns with >50% null values*."
   ]
  },
  {
   "cell_type": "code",
   "execution_count": 16,
   "metadata": {},
   "outputs": [],
   "source": [
    "percent_of_nulls = df_info.percentage_of_nulls_in_data_frame(df)\n",
    "\n",
    "# Extract columns whose majority (> 50%) of values are null \n",
    "more_than_half_null_cols = percent_of_nulls[percent_of_nulls > 50.00]\n",
    "\n",
    "# Store the names of those columns in a list \n",
    "column_names_to_drop = list(more_than_half_null_cols.index)\n",
    "\n",
    "# Drop the named columns in place from the dataframe \n",
    "data_frame_transformer.drop_columns_by_name(column_names_to_drop)"
   ]
  },
  {
   "cell_type": "code",
   "execution_count": 17,
   "metadata": {},
   "outputs": [
    {
     "data": {
      "text/html": [
       "<div>\n",
       "<style scoped>\n",
       "    .dataframe tbody tr th:only-of-type {\n",
       "        vertical-align: middle;\n",
       "    }\n",
       "\n",
       "    .dataframe tbody tr th {\n",
       "        vertical-align: top;\n",
       "    }\n",
       "\n",
       "    .dataframe thead th {\n",
       "        text-align: right;\n",
       "    }\n",
       "</style>\n",
       "<table border=\"1\" class=\"dataframe\">\n",
       "  <thead>\n",
       "    <tr style=\"text-align: right;\">\n",
       "      <th></th>\n",
       "      <th>funded_amount</th>\n",
       "      <th>term</th>\n",
       "      <th>int_rate</th>\n",
       "      <th>employment_length</th>\n",
       "      <th>last_payment_date</th>\n",
       "      <th>last_credit_pull_date</th>\n",
       "      <th>collections_12_mths_ex_med</th>\n",
       "    </tr>\n",
       "  </thead>\n",
       "  <tbody>\n",
       "    <tr>\n",
       "      <th>0</th>\n",
       "      <td>8000.0</td>\n",
       "      <td>36.0</td>\n",
       "      <td>7.49</td>\n",
       "      <td>5 years</td>\n",
       "      <td>2022-01-01</td>\n",
       "      <td>2022-01-01</td>\n",
       "      <td>0</td>\n",
       "    </tr>\n",
       "    <tr>\n",
       "      <th>1</th>\n",
       "      <td>13200.0</td>\n",
       "      <td>36.0</td>\n",
       "      <td>6.99</td>\n",
       "      <td>9 years</td>\n",
       "      <td>2022-01-01</td>\n",
       "      <td>2022-01-01</td>\n",
       "      <td>0</td>\n",
       "    </tr>\n",
       "    <tr>\n",
       "      <th>2</th>\n",
       "      <td>16000.0</td>\n",
       "      <td>36.0</td>\n",
       "      <td>7.49</td>\n",
       "      <td>8 years</td>\n",
       "      <td>2021-10-01</td>\n",
       "      <td>2021-10-01</td>\n",
       "      <td>0</td>\n",
       "    </tr>\n",
       "    <tr>\n",
       "      <th>3</th>\n",
       "      <td>15000.0</td>\n",
       "      <td>36.0</td>\n",
       "      <td>14.31</td>\n",
       "      <td>1 year</td>\n",
       "      <td>2021-06-01</td>\n",
       "      <td>2021-06-01</td>\n",
       "      <td>0</td>\n",
       "    </tr>\n",
       "    <tr>\n",
       "      <th>4</th>\n",
       "      <td>15000.0</td>\n",
       "      <td>36.0</td>\n",
       "      <td>6.03</td>\n",
       "      <td>10+ years</td>\n",
       "      <td>2022-01-01</td>\n",
       "      <td>2022-01-01</td>\n",
       "      <td>0</td>\n",
       "    </tr>\n",
       "    <tr>\n",
       "      <th>...</th>\n",
       "      <td>...</td>\n",
       "      <td>...</td>\n",
       "      <td>...</td>\n",
       "      <td>...</td>\n",
       "      <td>...</td>\n",
       "      <td>...</td>\n",
       "      <td>...</td>\n",
       "    </tr>\n",
       "    <tr>\n",
       "      <th>54226</th>\n",
       "      <td>5000.0</td>\n",
       "      <td>36.0</td>\n",
       "      <td>9.01</td>\n",
       "      <td>1 year</td>\n",
       "      <td>2016-07-01</td>\n",
       "      <td>2016-07-01</td>\n",
       "      <td>&lt;NA&gt;</td>\n",
       "    </tr>\n",
       "    <tr>\n",
       "      <th>54227</th>\n",
       "      <td>5000.0</td>\n",
       "      <td>36.0</td>\n",
       "      <td>10.59</td>\n",
       "      <td>&lt; 1 year</td>\n",
       "      <td>2016-10-01</td>\n",
       "      <td>2016-09-01</td>\n",
       "      <td>0</td>\n",
       "    </tr>\n",
       "    <tr>\n",
       "      <th>54228</th>\n",
       "      <td>3500.0</td>\n",
       "      <td>36.0</td>\n",
       "      <td>7.43</td>\n",
       "      <td>10+ years</td>\n",
       "      <td>2016-09-01</td>\n",
       "      <td>2013-05-01</td>\n",
       "      <td>&lt;NA&gt;</td>\n",
       "    </tr>\n",
       "    <tr>\n",
       "      <th>54229</th>\n",
       "      <td>5000.0</td>\n",
       "      <td>36.0</td>\n",
       "      <td>7.43</td>\n",
       "      <td>4 years</td>\n",
       "      <td>2014-03-01</td>\n",
       "      <td>2013-05-01</td>\n",
       "      <td>&lt;NA&gt;</td>\n",
       "    </tr>\n",
       "    <tr>\n",
       "      <th>54230</th>\n",
       "      <td>5000.0</td>\n",
       "      <td>36.0</td>\n",
       "      <td>11.54</td>\n",
       "      <td>9 years</td>\n",
       "      <td>2014-03-01</td>\n",
       "      <td>2015-01-01</td>\n",
       "      <td>&lt;NA&gt;</td>\n",
       "    </tr>\n",
       "  </tbody>\n",
       "</table>\n",
       "<p>54231 rows × 7 columns</p>\n",
       "</div>"
      ],
      "text/plain": [
       "       funded_amount  term  int_rate employment_length last_payment_date  \\\n",
       "0             8000.0  36.0      7.49           5 years        2022-01-01   \n",
       "1            13200.0  36.0      6.99           9 years        2022-01-01   \n",
       "2            16000.0  36.0      7.49           8 years        2021-10-01   \n",
       "3            15000.0  36.0     14.31            1 year        2021-06-01   \n",
       "4            15000.0  36.0      6.03         10+ years        2022-01-01   \n",
       "...              ...   ...       ...               ...               ...   \n",
       "54226         5000.0  36.0      9.01            1 year        2016-07-01   \n",
       "54227         5000.0  36.0     10.59          < 1 year        2016-10-01   \n",
       "54228         3500.0  36.0      7.43         10+ years        2016-09-01   \n",
       "54229         5000.0  36.0      7.43           4 years        2014-03-01   \n",
       "54230         5000.0  36.0     11.54           9 years        2014-03-01   \n",
       "\n",
       "      last_credit_pull_date  collections_12_mths_ex_med  \n",
       "0                2022-01-01                           0  \n",
       "1                2022-01-01                           0  \n",
       "2                2021-10-01                           0  \n",
       "3                2021-06-01                           0  \n",
       "4                2022-01-01                           0  \n",
       "...                     ...                         ...  \n",
       "54226            2016-07-01                        <NA>  \n",
       "54227            2016-09-01                           0  \n",
       "54228            2013-05-01                        <NA>  \n",
       "54229            2013-05-01                        <NA>  \n",
       "54230            2015-01-01                        <NA>  \n",
       "\n",
       "[54231 rows x 7 columns]"
      ]
     },
     "execution_count": 17,
     "metadata": {},
     "output_type": "execute_result"
    }
   ],
   "source": [
    "# reset this variable now that the null-heavy columns are removed \n",
    "columns_with_nulls = df_info.get_columns_with_nulls()\n",
    "columns_with_nulls  \n",
    "# data_frame_transformer.impute_nulls_in_columns(columns_to_impute=columns_with_nulls)\n",
    "\n"
   ]
  }
 ],
 "metadata": {
  "kernelspec": {
   "display_name": "Python 3",
   "language": "python",
   "name": "python3"
  },
  "language_info": {
   "codemirror_mode": {
    "name": "ipython",
    "version": 3
   },
   "file_extension": ".py",
   "mimetype": "text/x-python",
   "name": "python",
   "nbconvert_exporter": "python",
   "pygments_lexer": "ipython3",
   "version": "3.11.6"
  }
 },
 "nbformat": 4,
 "nbformat_minor": 2
}
